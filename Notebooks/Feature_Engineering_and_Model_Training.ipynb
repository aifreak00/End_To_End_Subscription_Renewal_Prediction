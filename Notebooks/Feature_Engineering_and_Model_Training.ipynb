{
 "cells": [
  {
   "cell_type": "markdown",
   "metadata": {},
   "source": [
    "## Data Pre-Processing"
   ]
  },
  {
   "cell_type": "markdown",
   "metadata": {},
   "source": [
    "Import Packages and CSV"
   ]
  },
  {
   "cell_type": "code",
   "execution_count": 100,
   "metadata": {},
   "outputs": [
    {
     "name": "stdout",
     "output_type": "stream",
     "text": [
      "(25480, 17)\n"
     ]
    }
   ],
   "source": [
    "import pandas as pd\n",
    "import numpy as np\n",
    "import matplotlib.pyplot as plt\n",
    "import seaborn as sns\n",
    "import warnings\n",
    "warnings.filterwarnings(\"ignore\")\n",
    "\n",
    "pd.pandas.set_option(\"display.max_columns\", 100)\n",
    "\n",
    "# Import dataset\n",
    "df = pd.read_csv(\"dataset.csv\")\n",
    "\n",
    "# Print shape of dataset\n",
    "print(df.shape)"
   ]
  },
  {
   "cell_type": "code",
   "execution_count": 101,
   "metadata": {},
   "outputs": [
    {
     "data": {
      "text/html": [
       "<div>\n",
       "<style scoped>\n",
       "    .dataframe tbody tr th:only-of-type {\n",
       "        vertical-align: middle;\n",
       "    }\n",
       "\n",
       "    .dataframe tbody tr th {\n",
       "        vertical-align: top;\n",
       "    }\n",
       "\n",
       "    .dataframe thead th {\n",
       "        text-align: right;\n",
       "    }\n",
       "</style>\n",
       "<table border=\"1\" class=\"dataframe\">\n",
       "  <thead>\n",
       "    <tr style=\"text-align: right;\">\n",
       "      <th></th>\n",
       "      <th>CustomerID</th>\n",
       "      <th>Country</th>\n",
       "      <th>user_education</th>\n",
       "      <th>Gender</th>\n",
       "      <th>UsesAdvancedFeatures</th>\n",
       "      <th>AppEngagementSeconds</th>\n",
       "      <th>LastLoginDaysAgo</th>\n",
       "      <th>Profession</th>\n",
       "      <th>SubscriptionType</th>\n",
       "      <th>UsesVR</th>\n",
       "      <th>RenewSubscription</th>\n",
       "      <th>Age</th>\n",
       "      <th>DesignProjectScale</th>\n",
       "      <th>NumberOfDesigns</th>\n",
       "      <th>TutorialProgressionType</th>\n",
       "      <th>FrequencyOfDesignToolUsage</th>\n",
       "      <th>CustomerSupportCall</th>\n",
       "    </tr>\n",
       "  </thead>\n",
       "  <tbody>\n",
       "    <tr>\n",
       "      <th>0</th>\n",
       "      <td>CUST00001</td>\n",
       "      <td>USA</td>\n",
       "      <td>High School</td>\n",
       "      <td>Male</td>\n",
       "      <td>N</td>\n",
       "      <td>14513</td>\n",
       "      <td>7</td>\n",
       "      <td>Hobbyist</td>\n",
       "      <td>Pay-as-you-go</td>\n",
       "      <td>Y</td>\n",
       "      <td>Yes</td>\n",
       "      <td>27.0</td>\n",
       "      <td>Small</td>\n",
       "      <td>19</td>\n",
       "      <td>Beginner</td>\n",
       "      <td>Weekly</td>\n",
       "      <td>N</td>\n",
       "    </tr>\n",
       "    <tr>\n",
       "      <th>1</th>\n",
       "      <td>CUST00002</td>\n",
       "      <td>USA</td>\n",
       "      <td>Master's</td>\n",
       "      <td>Female</td>\n",
       "      <td>N</td>\n",
       "      <td>2412</td>\n",
       "      <td>2</td>\n",
       "      <td>Architect</td>\n",
       "      <td>Basic</td>\n",
       "      <td>Y</td>\n",
       "      <td>Yes</td>\n",
       "      <td>27.0</td>\n",
       "      <td>Mixed-use</td>\n",
       "      <td>26</td>\n",
       "      <td>Not Attended</td>\n",
       "      <td>Monthly</td>\n",
       "      <td>N</td>\n",
       "    </tr>\n",
       "    <tr>\n",
       "      <th>2</th>\n",
       "      <td>CUST00003</td>\n",
       "      <td>USA</td>\n",
       "      <td>Bachelor's</td>\n",
       "      <td>Male</td>\n",
       "      <td>Y</td>\n",
       "      <td>44444</td>\n",
       "      <td>8</td>\n",
       "      <td>Hobbyist</td>\n",
       "      <td>Basic</td>\n",
       "      <td>Y</td>\n",
       "      <td>Yes</td>\n",
       "      <td>35.0</td>\n",
       "      <td>Medium</td>\n",
       "      <td>155</td>\n",
       "      <td>Advanced</td>\n",
       "      <td>Monthly</td>\n",
       "      <td>N</td>\n",
       "    </tr>\n",
       "    <tr>\n",
       "      <th>3</th>\n",
       "      <td>CUST00004</td>\n",
       "      <td>USA</td>\n",
       "      <td>Bachelor's</td>\n",
       "      <td>Male</td>\n",
       "      <td>N</td>\n",
       "      <td>98</td>\n",
       "      <td>103</td>\n",
       "      <td>Hobbyist</td>\n",
       "      <td>Basic</td>\n",
       "      <td>Y</td>\n",
       "      <td>Yes</td>\n",
       "      <td>48.0</td>\n",
       "      <td>Small</td>\n",
       "      <td>153</td>\n",
       "      <td>Intermediate</td>\n",
       "      <td>Monthly</td>\n",
       "      <td>N</td>\n",
       "    </tr>\n",
       "    <tr>\n",
       "      <th>4</th>\n",
       "      <td>CUST00005</td>\n",
       "      <td>Canada</td>\n",
       "      <td>Master's</td>\n",
       "      <td>Female</td>\n",
       "      <td>N</td>\n",
       "      <td>1082</td>\n",
       "      <td>5</td>\n",
       "      <td>Interior Designer</td>\n",
       "      <td>Basic</td>\n",
       "      <td>Y</td>\n",
       "      <td>No</td>\n",
       "      <td>29.0</td>\n",
       "      <td>Large</td>\n",
       "      <td>128</td>\n",
       "      <td>Beginner</td>\n",
       "      <td>Daily</td>\n",
       "      <td>Y</td>\n",
       "    </tr>\n",
       "  </tbody>\n",
       "</table>\n",
       "</div>"
      ],
      "text/plain": [
       "  CustomerID Country user_education  Gender UsesAdvancedFeatures  \\\n",
       "0  CUST00001     USA    High School    Male                    N   \n",
       "1  CUST00002     USA       Master's  Female                    N   \n",
       "2  CUST00003     USA     Bachelor's    Male                    Y   \n",
       "3  CUST00004     USA     Bachelor's    Male                    N   \n",
       "4  CUST00005  Canada       Master's  Female                    N   \n",
       "\n",
       "   AppEngagementSeconds  LastLoginDaysAgo         Profession SubscriptionType  \\\n",
       "0                 14513                 7           Hobbyist    Pay-as-you-go   \n",
       "1                  2412                 2          Architect            Basic   \n",
       "2                 44444                 8           Hobbyist            Basic   \n",
       "3                    98               103           Hobbyist            Basic   \n",
       "4                  1082                 5  Interior Designer            Basic   \n",
       "\n",
       "  UsesVR RenewSubscription   Age DesignProjectScale  NumberOfDesigns  \\\n",
       "0      Y               Yes  27.0              Small               19   \n",
       "1      Y               Yes  27.0          Mixed-use               26   \n",
       "2      Y               Yes  35.0             Medium              155   \n",
       "3      Y               Yes  48.0              Small              153   \n",
       "4      Y                No  29.0              Large              128   \n",
       "\n",
       "  TutorialProgressionType FrequencyOfDesignToolUsage CustomerSupportCall  \n",
       "0                Beginner                     Weekly                   N  \n",
       "1            Not Attended                    Monthly                   N  \n",
       "2                Advanced                    Monthly                   N  \n",
       "3            Intermediate                    Monthly                   N  \n",
       "4                Beginner                      Daily                   Y  "
      ]
     },
     "execution_count": 101,
     "metadata": {},
     "output_type": "execute_result"
    }
   ],
   "source": [
    "# Display the first few rows to get a basic idea\n",
    "df.head()"
   ]
  },
  {
   "cell_type": "markdown",
   "metadata": {},
   "source": [
    "### Data Cleaning\n",
    "\n",
    "Handling Missing values\n",
    "\n",
    "* Handling Missing values\n",
    "* Handling Duplicates\n",
    "* Check data type\n",
    "* Understand the dataset\n"
   ]
  },
  {
   "cell_type": "markdown",
   "metadata": {},
   "source": [
    "Check Null Values"
   ]
  },
  {
   "cell_type": "code",
   "execution_count": 102,
   "metadata": {},
   "outputs": [],
   "source": [
    "features_with_na=[features for features in df.columns if df[features].isnull().sum()>=1]\n",
    "for feature in features_with_na:\n",
    "    print(feature,np.round(df[feature].isnull().mean()*100,5), \"% missing values\")"
   ]
  },
  {
   "cell_type": "code",
   "execution_count": 103,
   "metadata": {},
   "outputs": [
    {
     "data": {
      "text/plain": [
       "[]"
      ]
     },
     "execution_count": 103,
     "metadata": {},
     "output_type": "execute_result"
    }
   ],
   "source": [
    "features_with_na"
   ]
  },
  {
   "cell_type": "markdown",
   "metadata": {},
   "source": [
    "* There are no null values in the dataset"
   ]
  },
  {
   "cell_type": "markdown",
   "metadata": {},
   "source": [
    "#### Other Data Cleaning steps"
   ]
  },
  {
   "cell_type": "markdown",
   "metadata": {},
   "source": [
    "Handling Duplicates"
   ]
  },
  {
   "cell_type": "code",
   "execution_count": 104,
   "metadata": {},
   "outputs": [
    {
     "data": {
      "text/plain": [
       "0"
      ]
     },
     "execution_count": 104,
     "metadata": {},
     "output_type": "execute_result"
    }
   ],
   "source": [
    "df.duplicated().sum()"
   ]
  },
  {
   "cell_type": "markdown",
   "metadata": {},
   "source": [
    "* No Duplicates in the dataset"
   ]
  },
  {
   "cell_type": "markdown",
   "metadata": {},
   "source": [
    "Remove CustomerID from the dataset as it cannot used in Model Training"
   ]
  },
  {
   "cell_type": "code",
   "execution_count": 105,
   "metadata": {},
   "outputs": [],
   "source": [
    "df.drop(\"CustomerID\", inplace=True, axis=1)"
   ]
  },
  {
   "cell_type": "markdown",
   "metadata": {},
   "source": [
    "## Feature Engineering"
   ]
  },
  {
   "cell_type": "markdown",
   "metadata": {},
   "source": [
    "#### Feature Extraction"
   ]
  },
  {
   "cell_type": "code",
   "execution_count": 106,
   "metadata": {},
   "outputs": [
    {
     "data": {
      "text/html": [
       "<div>\n",
       "<style scoped>\n",
       "    .dataframe tbody tr th:only-of-type {\n",
       "        vertical-align: middle;\n",
       "    }\n",
       "\n",
       "    .dataframe tbody tr th {\n",
       "        vertical-align: top;\n",
       "    }\n",
       "\n",
       "    .dataframe thead th {\n",
       "        text-align: right;\n",
       "    }\n",
       "</style>\n",
       "<table border=\"1\" class=\"dataframe\">\n",
       "  <thead>\n",
       "    <tr style=\"text-align: right;\">\n",
       "      <th></th>\n",
       "      <th>Country</th>\n",
       "      <th>user_education</th>\n",
       "      <th>Gender</th>\n",
       "      <th>UsesAdvancedFeatures</th>\n",
       "      <th>AppEngagementSeconds</th>\n",
       "      <th>LastLoginDaysAgo</th>\n",
       "      <th>Profession</th>\n",
       "      <th>SubscriptionType</th>\n",
       "      <th>UsesVR</th>\n",
       "      <th>RenewSubscription</th>\n",
       "      <th>Age</th>\n",
       "      <th>DesignProjectScale</th>\n",
       "      <th>NumberOfDesigns</th>\n",
       "      <th>TutorialProgressionType</th>\n",
       "      <th>FrequencyOfDesignToolUsage</th>\n",
       "      <th>CustomerSupportCall</th>\n",
       "    </tr>\n",
       "  </thead>\n",
       "  <tbody>\n",
       "    <tr>\n",
       "      <th>0</th>\n",
       "      <td>USA</td>\n",
       "      <td>High School</td>\n",
       "      <td>Male</td>\n",
       "      <td>N</td>\n",
       "      <td>14513</td>\n",
       "      <td>7</td>\n",
       "      <td>Hobbyist</td>\n",
       "      <td>Pay-as-you-go</td>\n",
       "      <td>Y</td>\n",
       "      <td>Yes</td>\n",
       "      <td>27.0</td>\n",
       "      <td>Small</td>\n",
       "      <td>19</td>\n",
       "      <td>Beginner</td>\n",
       "      <td>Weekly</td>\n",
       "      <td>N</td>\n",
       "    </tr>\n",
       "    <tr>\n",
       "      <th>1</th>\n",
       "      <td>USA</td>\n",
       "      <td>Master's</td>\n",
       "      <td>Female</td>\n",
       "      <td>N</td>\n",
       "      <td>2412</td>\n",
       "      <td>2</td>\n",
       "      <td>Architect</td>\n",
       "      <td>Basic</td>\n",
       "      <td>Y</td>\n",
       "      <td>Yes</td>\n",
       "      <td>27.0</td>\n",
       "      <td>Mixed-use</td>\n",
       "      <td>26</td>\n",
       "      <td>Not Attended</td>\n",
       "      <td>Monthly</td>\n",
       "      <td>N</td>\n",
       "    </tr>\n",
       "    <tr>\n",
       "      <th>2</th>\n",
       "      <td>USA</td>\n",
       "      <td>Bachelor's</td>\n",
       "      <td>Male</td>\n",
       "      <td>Y</td>\n",
       "      <td>44444</td>\n",
       "      <td>8</td>\n",
       "      <td>Hobbyist</td>\n",
       "      <td>Basic</td>\n",
       "      <td>Y</td>\n",
       "      <td>Yes</td>\n",
       "      <td>35.0</td>\n",
       "      <td>Medium</td>\n",
       "      <td>155</td>\n",
       "      <td>Advanced</td>\n",
       "      <td>Monthly</td>\n",
       "      <td>N</td>\n",
       "    </tr>\n",
       "    <tr>\n",
       "      <th>3</th>\n",
       "      <td>USA</td>\n",
       "      <td>Bachelor's</td>\n",
       "      <td>Male</td>\n",
       "      <td>N</td>\n",
       "      <td>98</td>\n",
       "      <td>103</td>\n",
       "      <td>Hobbyist</td>\n",
       "      <td>Basic</td>\n",
       "      <td>Y</td>\n",
       "      <td>Yes</td>\n",
       "      <td>48.0</td>\n",
       "      <td>Small</td>\n",
       "      <td>153</td>\n",
       "      <td>Intermediate</td>\n",
       "      <td>Monthly</td>\n",
       "      <td>N</td>\n",
       "    </tr>\n",
       "    <tr>\n",
       "      <th>4</th>\n",
       "      <td>Canada</td>\n",
       "      <td>Master's</td>\n",
       "      <td>Female</td>\n",
       "      <td>N</td>\n",
       "      <td>1082</td>\n",
       "      <td>5</td>\n",
       "      <td>Interior Designer</td>\n",
       "      <td>Basic</td>\n",
       "      <td>Y</td>\n",
       "      <td>No</td>\n",
       "      <td>29.0</td>\n",
       "      <td>Large</td>\n",
       "      <td>128</td>\n",
       "      <td>Beginner</td>\n",
       "      <td>Daily</td>\n",
       "      <td>Y</td>\n",
       "    </tr>\n",
       "  </tbody>\n",
       "</table>\n",
       "</div>"
      ],
      "text/plain": [
       "  Country user_education  Gender UsesAdvancedFeatures  AppEngagementSeconds  \\\n",
       "0     USA    High School    Male                    N                 14513   \n",
       "1     USA       Master's  Female                    N                  2412   \n",
       "2     USA     Bachelor's    Male                    Y                 44444   \n",
       "3     USA     Bachelor's    Male                    N                    98   \n",
       "4  Canada       Master's  Female                    N                  1082   \n",
       "\n",
       "   LastLoginDaysAgo         Profession SubscriptionType UsesVR  \\\n",
       "0                 7           Hobbyist    Pay-as-you-go      Y   \n",
       "1                 2          Architect            Basic      Y   \n",
       "2                 8           Hobbyist            Basic      Y   \n",
       "3               103           Hobbyist            Basic      Y   \n",
       "4                 5  Interior Designer            Basic      Y   \n",
       "\n",
       "  RenewSubscription   Age DesignProjectScale  NumberOfDesigns  \\\n",
       "0               Yes  27.0              Small               19   \n",
       "1               Yes  27.0          Mixed-use               26   \n",
       "2               Yes  35.0             Medium              155   \n",
       "3               Yes  48.0              Small              153   \n",
       "4                No  29.0              Large              128   \n",
       "\n",
       "  TutorialProgressionType FrequencyOfDesignToolUsage CustomerSupportCall  \n",
       "0                Beginner                     Weekly                   N  \n",
       "1            Not Attended                    Monthly                   N  \n",
       "2                Advanced                    Monthly                   N  \n",
       "3            Intermediate                    Monthly                   N  \n",
       "4                Beginner                      Daily                   Y  "
      ]
     },
     "execution_count": 106,
     "metadata": {},
     "output_type": "execute_result"
    }
   ],
   "source": [
    "df.head()"
   ]
  },
  {
   "cell_type": "markdown",
   "metadata": {},
   "source": [
    "Converting AppEngagementSeconds to minutes can enhance interpretability, align with industry standards, reduce data scale and variability, and facilitate more intuitive feature engineering and modeling."
   ]
  },
  {
   "cell_type": "code",
   "execution_count": 107,
   "metadata": {},
   "outputs": [],
   "source": [
    "df[\"AppEngagementMinutes\"] = (df[\"AppEngagementSeconds\"] / 60).round()"
   ]
  },
  {
   "cell_type": "code",
   "execution_count": 108,
   "metadata": {},
   "outputs": [],
   "source": [
    "# After extraction we can drop AppEngagementSeconds\n",
    "df.drop(\"AppEngagementSeconds\", inplace=True, axis=1)"
   ]
  },
  {
   "cell_type": "code",
   "execution_count": 109,
   "metadata": {},
   "outputs": [
    {
     "data": {
      "text/html": [
       "<div>\n",
       "<style scoped>\n",
       "    .dataframe tbody tr th:only-of-type {\n",
       "        vertical-align: middle;\n",
       "    }\n",
       "\n",
       "    .dataframe tbody tr th {\n",
       "        vertical-align: top;\n",
       "    }\n",
       "\n",
       "    .dataframe thead th {\n",
       "        text-align: right;\n",
       "    }\n",
       "</style>\n",
       "<table border=\"1\" class=\"dataframe\">\n",
       "  <thead>\n",
       "    <tr style=\"text-align: right;\">\n",
       "      <th></th>\n",
       "      <th>Country</th>\n",
       "      <th>user_education</th>\n",
       "      <th>Gender</th>\n",
       "      <th>UsesAdvancedFeatures</th>\n",
       "      <th>LastLoginDaysAgo</th>\n",
       "      <th>Profession</th>\n",
       "      <th>SubscriptionType</th>\n",
       "      <th>UsesVR</th>\n",
       "      <th>RenewSubscription</th>\n",
       "      <th>Age</th>\n",
       "      <th>DesignProjectScale</th>\n",
       "      <th>NumberOfDesigns</th>\n",
       "      <th>TutorialProgressionType</th>\n",
       "      <th>FrequencyOfDesignToolUsage</th>\n",
       "      <th>CustomerSupportCall</th>\n",
       "      <th>AppEngagementMinutes</th>\n",
       "    </tr>\n",
       "  </thead>\n",
       "  <tbody>\n",
       "    <tr>\n",
       "      <th>0</th>\n",
       "      <td>USA</td>\n",
       "      <td>High School</td>\n",
       "      <td>Male</td>\n",
       "      <td>N</td>\n",
       "      <td>7</td>\n",
       "      <td>Hobbyist</td>\n",
       "      <td>Pay-as-you-go</td>\n",
       "      <td>Y</td>\n",
       "      <td>Yes</td>\n",
       "      <td>27.0</td>\n",
       "      <td>Small</td>\n",
       "      <td>19</td>\n",
       "      <td>Beginner</td>\n",
       "      <td>Weekly</td>\n",
       "      <td>N</td>\n",
       "      <td>242.0</td>\n",
       "    </tr>\n",
       "    <tr>\n",
       "      <th>1</th>\n",
       "      <td>USA</td>\n",
       "      <td>Master's</td>\n",
       "      <td>Female</td>\n",
       "      <td>N</td>\n",
       "      <td>2</td>\n",
       "      <td>Architect</td>\n",
       "      <td>Basic</td>\n",
       "      <td>Y</td>\n",
       "      <td>Yes</td>\n",
       "      <td>27.0</td>\n",
       "      <td>Mixed-use</td>\n",
       "      <td>26</td>\n",
       "      <td>Not Attended</td>\n",
       "      <td>Monthly</td>\n",
       "      <td>N</td>\n",
       "      <td>40.0</td>\n",
       "    </tr>\n",
       "    <tr>\n",
       "      <th>2</th>\n",
       "      <td>USA</td>\n",
       "      <td>Bachelor's</td>\n",
       "      <td>Male</td>\n",
       "      <td>Y</td>\n",
       "      <td>8</td>\n",
       "      <td>Hobbyist</td>\n",
       "      <td>Basic</td>\n",
       "      <td>Y</td>\n",
       "      <td>Yes</td>\n",
       "      <td>35.0</td>\n",
       "      <td>Medium</td>\n",
       "      <td>155</td>\n",
       "      <td>Advanced</td>\n",
       "      <td>Monthly</td>\n",
       "      <td>N</td>\n",
       "      <td>741.0</td>\n",
       "    </tr>\n",
       "    <tr>\n",
       "      <th>3</th>\n",
       "      <td>USA</td>\n",
       "      <td>Bachelor's</td>\n",
       "      <td>Male</td>\n",
       "      <td>N</td>\n",
       "      <td>103</td>\n",
       "      <td>Hobbyist</td>\n",
       "      <td>Basic</td>\n",
       "      <td>Y</td>\n",
       "      <td>Yes</td>\n",
       "      <td>48.0</td>\n",
       "      <td>Small</td>\n",
       "      <td>153</td>\n",
       "      <td>Intermediate</td>\n",
       "      <td>Monthly</td>\n",
       "      <td>N</td>\n",
       "      <td>2.0</td>\n",
       "    </tr>\n",
       "    <tr>\n",
       "      <th>4</th>\n",
       "      <td>Canada</td>\n",
       "      <td>Master's</td>\n",
       "      <td>Female</td>\n",
       "      <td>N</td>\n",
       "      <td>5</td>\n",
       "      <td>Interior Designer</td>\n",
       "      <td>Basic</td>\n",
       "      <td>Y</td>\n",
       "      <td>No</td>\n",
       "      <td>29.0</td>\n",
       "      <td>Large</td>\n",
       "      <td>128</td>\n",
       "      <td>Beginner</td>\n",
       "      <td>Daily</td>\n",
       "      <td>Y</td>\n",
       "      <td>18.0</td>\n",
       "    </tr>\n",
       "  </tbody>\n",
       "</table>\n",
       "</div>"
      ],
      "text/plain": [
       "  Country user_education  Gender UsesAdvancedFeatures  LastLoginDaysAgo  \\\n",
       "0     USA    High School    Male                    N                 7   \n",
       "1     USA       Master's  Female                    N                 2   \n",
       "2     USA     Bachelor's    Male                    Y                 8   \n",
       "3     USA     Bachelor's    Male                    N               103   \n",
       "4  Canada       Master's  Female                    N                 5   \n",
       "\n",
       "          Profession SubscriptionType UsesVR RenewSubscription   Age  \\\n",
       "0           Hobbyist    Pay-as-you-go      Y               Yes  27.0   \n",
       "1          Architect            Basic      Y               Yes  27.0   \n",
       "2           Hobbyist            Basic      Y               Yes  35.0   \n",
       "3           Hobbyist            Basic      Y               Yes  48.0   \n",
       "4  Interior Designer            Basic      Y                No  29.0   \n",
       "\n",
       "  DesignProjectScale  NumberOfDesigns TutorialProgressionType  \\\n",
       "0              Small               19                Beginner   \n",
       "1          Mixed-use               26            Not Attended   \n",
       "2             Medium              155                Advanced   \n",
       "3              Small              153            Intermediate   \n",
       "4              Large              128                Beginner   \n",
       "\n",
       "  FrequencyOfDesignToolUsage CustomerSupportCall  AppEngagementMinutes  \n",
       "0                     Weekly                   N                 242.0  \n",
       "1                    Monthly                   N                  40.0  \n",
       "2                    Monthly                   N                 741.0  \n",
       "3                    Monthly                   N                   2.0  \n",
       "4                      Daily                   Y                  18.0  "
      ]
     },
     "execution_count": 109,
     "metadata": {},
     "output_type": "execute_result"
    }
   ],
   "source": [
    "df.head()"
   ]
  },
  {
   "cell_type": "markdown",
   "metadata": {},
   "source": [
    "##### Create IsActive column"
   ]
  },
  {
   "cell_type": "markdown",
   "metadata": {},
   "source": [
    "* Let's create a binary feature from the LastLoginDaysAgo column based on a threshold to indicate user activity."
   ]
  },
  {
   "cell_type": "markdown",
   "metadata": {},
   "source": [
    "**No:** If LastLoginDaysAgo is greater than the threshold (indicating inactivity beyond the acceptable period).\n",
    "\n",
    "**Yes:** If LastLoginDaysAgo is less than the threshold (indicating acceptable activity levels)."
   ]
  },
  {
   "cell_type": "code",
   "execution_count": 110,
   "metadata": {},
   "outputs": [],
   "source": [
    "# Set threshold (14 days)\n",
    "threshold = 14\n",
    "\n",
    "# Create a new column based on the threshold\n",
    "df[\"IsActive\"] = df[\"LastLoginDaysAgo\"].apply(lambda x: \"No\" if x > threshold else \"Yes\")"
   ]
  },
  {
   "cell_type": "markdown",
   "metadata": {},
   "source": [
    "* The UsesAdvancedFeatures column can be dropped as it doesn't have much effect on the target variable, as shown in the EDA notebook by the visualisation and the chi2 test."
   ]
  },
  {
   "cell_type": "code",
   "execution_count": 111,
   "metadata": {},
   "outputs": [],
   "source": [
    "df.drop(columns=[\"UsesAdvancedFeatures\"], axis=1, inplace=True)"
   ]
  },
  {
   "cell_type": "code",
   "execution_count": 112,
   "metadata": {},
   "outputs": [
    {
     "data": {
      "text/html": [
       "<div>\n",
       "<style scoped>\n",
       "    .dataframe tbody tr th:only-of-type {\n",
       "        vertical-align: middle;\n",
       "    }\n",
       "\n",
       "    .dataframe tbody tr th {\n",
       "        vertical-align: top;\n",
       "    }\n",
       "\n",
       "    .dataframe thead th {\n",
       "        text-align: right;\n",
       "    }\n",
       "</style>\n",
       "<table border=\"1\" class=\"dataframe\">\n",
       "  <thead>\n",
       "    <tr style=\"text-align: right;\">\n",
       "      <th></th>\n",
       "      <th>Country</th>\n",
       "      <th>user_education</th>\n",
       "      <th>Gender</th>\n",
       "      <th>LastLoginDaysAgo</th>\n",
       "      <th>Profession</th>\n",
       "      <th>SubscriptionType</th>\n",
       "      <th>UsesVR</th>\n",
       "      <th>RenewSubscription</th>\n",
       "      <th>Age</th>\n",
       "      <th>DesignProjectScale</th>\n",
       "      <th>NumberOfDesigns</th>\n",
       "      <th>TutorialProgressionType</th>\n",
       "      <th>FrequencyOfDesignToolUsage</th>\n",
       "      <th>CustomerSupportCall</th>\n",
       "      <th>AppEngagementMinutes</th>\n",
       "      <th>IsActive</th>\n",
       "    </tr>\n",
       "  </thead>\n",
       "  <tbody>\n",
       "    <tr>\n",
       "      <th>0</th>\n",
       "      <td>USA</td>\n",
       "      <td>High School</td>\n",
       "      <td>Male</td>\n",
       "      <td>7</td>\n",
       "      <td>Hobbyist</td>\n",
       "      <td>Pay-as-you-go</td>\n",
       "      <td>Y</td>\n",
       "      <td>Yes</td>\n",
       "      <td>27.0</td>\n",
       "      <td>Small</td>\n",
       "      <td>19</td>\n",
       "      <td>Beginner</td>\n",
       "      <td>Weekly</td>\n",
       "      <td>N</td>\n",
       "      <td>242.0</td>\n",
       "      <td>Yes</td>\n",
       "    </tr>\n",
       "    <tr>\n",
       "      <th>1</th>\n",
       "      <td>USA</td>\n",
       "      <td>Master's</td>\n",
       "      <td>Female</td>\n",
       "      <td>2</td>\n",
       "      <td>Architect</td>\n",
       "      <td>Basic</td>\n",
       "      <td>Y</td>\n",
       "      <td>Yes</td>\n",
       "      <td>27.0</td>\n",
       "      <td>Mixed-use</td>\n",
       "      <td>26</td>\n",
       "      <td>Not Attended</td>\n",
       "      <td>Monthly</td>\n",
       "      <td>N</td>\n",
       "      <td>40.0</td>\n",
       "      <td>Yes</td>\n",
       "    </tr>\n",
       "    <tr>\n",
       "      <th>2</th>\n",
       "      <td>USA</td>\n",
       "      <td>Bachelor's</td>\n",
       "      <td>Male</td>\n",
       "      <td>8</td>\n",
       "      <td>Hobbyist</td>\n",
       "      <td>Basic</td>\n",
       "      <td>Y</td>\n",
       "      <td>Yes</td>\n",
       "      <td>35.0</td>\n",
       "      <td>Medium</td>\n",
       "      <td>155</td>\n",
       "      <td>Advanced</td>\n",
       "      <td>Monthly</td>\n",
       "      <td>N</td>\n",
       "      <td>741.0</td>\n",
       "      <td>Yes</td>\n",
       "    </tr>\n",
       "    <tr>\n",
       "      <th>3</th>\n",
       "      <td>USA</td>\n",
       "      <td>Bachelor's</td>\n",
       "      <td>Male</td>\n",
       "      <td>103</td>\n",
       "      <td>Hobbyist</td>\n",
       "      <td>Basic</td>\n",
       "      <td>Y</td>\n",
       "      <td>Yes</td>\n",
       "      <td>48.0</td>\n",
       "      <td>Small</td>\n",
       "      <td>153</td>\n",
       "      <td>Intermediate</td>\n",
       "      <td>Monthly</td>\n",
       "      <td>N</td>\n",
       "      <td>2.0</td>\n",
       "      <td>No</td>\n",
       "    </tr>\n",
       "    <tr>\n",
       "      <th>4</th>\n",
       "      <td>Canada</td>\n",
       "      <td>Master's</td>\n",
       "      <td>Female</td>\n",
       "      <td>5</td>\n",
       "      <td>Interior Designer</td>\n",
       "      <td>Basic</td>\n",
       "      <td>Y</td>\n",
       "      <td>No</td>\n",
       "      <td>29.0</td>\n",
       "      <td>Large</td>\n",
       "      <td>128</td>\n",
       "      <td>Beginner</td>\n",
       "      <td>Daily</td>\n",
       "      <td>Y</td>\n",
       "      <td>18.0</td>\n",
       "      <td>Yes</td>\n",
       "    </tr>\n",
       "  </tbody>\n",
       "</table>\n",
       "</div>"
      ],
      "text/plain": [
       "  Country user_education  Gender  LastLoginDaysAgo         Profession  \\\n",
       "0     USA    High School    Male                 7           Hobbyist   \n",
       "1     USA       Master's  Female                 2          Architect   \n",
       "2     USA     Bachelor's    Male                 8           Hobbyist   \n",
       "3     USA     Bachelor's    Male               103           Hobbyist   \n",
       "4  Canada       Master's  Female                 5  Interior Designer   \n",
       "\n",
       "  SubscriptionType UsesVR RenewSubscription   Age DesignProjectScale  \\\n",
       "0    Pay-as-you-go      Y               Yes  27.0              Small   \n",
       "1            Basic      Y               Yes  27.0          Mixed-use   \n",
       "2            Basic      Y               Yes  35.0             Medium   \n",
       "3            Basic      Y               Yes  48.0              Small   \n",
       "4            Basic      Y                No  29.0              Large   \n",
       "\n",
       "   NumberOfDesigns TutorialProgressionType FrequencyOfDesignToolUsage  \\\n",
       "0               19                Beginner                     Weekly   \n",
       "1               26            Not Attended                    Monthly   \n",
       "2              155                Advanced                    Monthly   \n",
       "3              153            Intermediate                    Monthly   \n",
       "4              128                Beginner                      Daily   \n",
       "\n",
       "  CustomerSupportCall  AppEngagementMinutes IsActive  \n",
       "0                   N                 242.0      Yes  \n",
       "1                   N                  40.0      Yes  \n",
       "2                   N                 741.0      Yes  \n",
       "3                   N                   2.0       No  \n",
       "4                   Y                  18.0      Yes  "
      ]
     },
     "execution_count": 112,
     "metadata": {},
     "output_type": "execute_result"
    }
   ],
   "source": [
    "# Let's check df\n",
    "df.head()"
   ]
  },
  {
   "cell_type": "markdown",
   "metadata": {},
   "source": [
    "#### Check the type of features"
   ]
  },
  {
   "cell_type": "code",
   "execution_count": 113,
   "metadata": {},
   "outputs": [
    {
     "name": "stdout",
     "output_type": "stream",
     "text": [
      "Num of Numerical Features : 4\n"
     ]
    }
   ],
   "source": [
    "num_features = [feature for feature in df.columns if df[feature].dtype != \"O\"]\n",
    "print(\"Num of Numerical Features :\", len(num_features))"
   ]
  },
  {
   "cell_type": "code",
   "execution_count": 114,
   "metadata": {},
   "outputs": [
    {
     "name": "stdout",
     "output_type": "stream",
     "text": [
      "Num of Categorical Features : 12\n"
     ]
    }
   ],
   "source": [
    "cat_features = [feature for feature in df.columns if df[feature].dtype == \"O\"]\n",
    "print(\"Num of Categorical Features :\", len(cat_features))"
   ]
  },
  {
   "cell_type": "code",
   "execution_count": 115,
   "metadata": {},
   "outputs": [
    {
     "name": "stdout",
     "output_type": "stream",
     "text": [
      "Num of Discrete Features : 0\n"
     ]
    }
   ],
   "source": [
    "discrete_features=[feature for feature in num_features if len(df[feature].unique())<=25]\n",
    "print(\"Num of Discrete Features :\",len(discrete_features))"
   ]
  },
  {
   "cell_type": "code",
   "execution_count": 116,
   "metadata": {},
   "outputs": [
    {
     "name": "stdout",
     "output_type": "stream",
     "text": [
      "Num of Continuous Features : 4\n"
     ]
    }
   ],
   "source": [
    "continuous_features=[feature for feature in num_features if feature not in discrete_features]\n",
    "print(\"Num of Continuous Features :\",len(continuous_features))"
   ]
  },
  {
   "cell_type": "markdown",
   "metadata": {},
   "source": [
    "#### Split X and Y"
   ]
  },
  {
   "cell_type": "code",
   "execution_count": 117,
   "metadata": {},
   "outputs": [],
   "source": [
    "X = df.drop(\"RenewSubscription\", axis=1)\n",
    "y = df[\"RenewSubscription\"]"
   ]
  },
  {
   "cell_type": "code",
   "execution_count": 118,
   "metadata": {},
   "outputs": [
    {
     "data": {
      "text/plain": [
       "0    Yes\n",
       "1    Yes\n",
       "2    Yes\n",
       "3    Yes\n",
       "4     No\n",
       "Name: RenewSubscription, dtype: object"
      ]
     },
     "execution_count": 118,
     "metadata": {},
     "output_type": "execute_result"
    }
   ],
   "source": [
    "y.head()"
   ]
  },
  {
   "cell_type": "markdown",
   "metadata": {},
   "source": [
    "* Manual encoding target column"
   ]
  },
  {
   "cell_type": "code",
   "execution_count": 119,
   "metadata": {},
   "outputs": [],
   "source": [
    "# If the target column has No value it is encoded as 1 others as 0\n",
    "y = np.where(y==\"No\", 1, 0)"
   ]
  },
  {
   "cell_type": "code",
   "execution_count": 120,
   "metadata": {},
   "outputs": [
    {
     "data": {
      "text/plain": [
       "array([0, 0, 0, ..., 0, 0, 0])"
      ]
     },
     "execution_count": 120,
     "metadata": {},
     "output_type": "execute_result"
    }
   ],
   "source": [
    "y"
   ]
  },
  {
   "cell_type": "markdown",
   "metadata": {},
   "source": [
    "## Feature Transformation"
   ]
  },
  {
   "cell_type": "code",
   "execution_count": 121,
   "metadata": {},
   "outputs": [
    {
     "data": {
      "image/png": "[encoded data removed]",
      "text/plain": [
       "<Figure size 1200x600 with 4 Axes>"
      ]
     },
     "metadata": {},
     "output_type": "display_data"
    }
   ],
   "source": [
    "# Distribution of data before scaling\n",
    "plt.figure(figsize=(12, 6))\n",
    "for i, col in enumerate([\"AppEngagementMinutes\", \"LastLoginDaysAgo\", \"Age\", \"NumberOfDesigns\"]):\n",
    "    plt.subplot(2, 2, i+1)\n",
    "    sns.histplot(x=X[col], color=\"indianred\")\n",
    "    plt.xlabel(col)\n",
    "    plt.tight_layout()"
   ]
  },
  {
   "cell_type": "markdown",
   "metadata": {},
   "source": [
    "* In particular, the AppEngagementMinutes and LastLoginDaysAgo columns are skewed.\n",
    "* We can apply a featurewise power transformation to make the data more Gaussian.\n",
    "\n",
    "Power transformations are a group of parametric, monotonic transformations used to make data resemble a normal distribution more closely. These are particularly helpful for addressing modeling problems associated with heteroscedasticity (non-uniform variance) or in cases where a normal distribution is preferable.\n",
    "\n",
    "* At present, the PowerTransformer accommodates both the Box-Cox transform and the Yeo-Johnson transform."
   ]
  },
  {
   "cell_type": "markdown",
   "metadata": {},
   "source": [
    "##### Checking Skewness\n",
    "\n",
    "* Skewness describes an imbalance or asymmetry in a dataset that diverges from the symmetric bell curve of a normal distribution. If this distribution curve leans to the left or right, it is considered skewed. Skewness quantifies how much a distribution deviates from a normal distribution"
   ]
  },
  {
   "cell_type": "code",
   "execution_count": 122,
   "metadata": {},
   "outputs": [
    {
     "data": {
      "text/plain": [
       "LastLoginDaysAgo         2.241802\n",
       "Age                      0.583099\n",
       "NumberOfDesigns          0.003848\n",
       "AppEngagementMinutes    12.265331\n",
       "dtype: float64"
      ]
     },
     "execution_count": 122,
     "metadata": {},
     "output_type": "execute_result"
    }
   ],
   "source": [
    "# Check Skewness\n",
    "X[continuous_features].skew(axis=0, skipna=True)"
   ]
  },
  {
   "cell_type": "markdown",
   "metadata": {},
   "source": [
    "* Positiviely Skewed : LastLoginDaysAgo, AppEngagementMinutes."
   ]
  },
  {
   "cell_type": "markdown",
   "metadata": {},
   "source": [
    "#### Apply Power Transformer"
   ]
  },
  {
   "cell_type": "code",
   "execution_count": 123,
   "metadata": {},
   "outputs": [],
   "source": [
    "from sklearn.preprocessing import PowerTransformer\n",
    "pt = PowerTransformer(method=\"yeo-johnson\")\n",
    "transform_features = [\"LastLoginDaysAgo\", \"AppEngagementMinutes\"]\n",
    "X_copy = pt.fit_transform(X[transform_features])"
   ]
  },
  {
   "cell_type": "code",
   "execution_count": 124,
   "metadata": {},
   "outputs": [],
   "source": [
    "X_copy = pd.DataFrame(X_copy, columns=transform_features)"
   ]
  },
  {
   "cell_type": "code",
   "execution_count": 125,
   "metadata": {},
   "outputs": [
    {
     "data": {
      "image/png": "[encoded data removed]",
      "text/plain": [
       "<Figure size 1200x500 with 2 Axes>"
      ]
     },
     "metadata": {},
     "output_type": "display_data"
    }
   ],
   "source": [
    "plt.figure(figsize=(12, 5))\n",
    "for i, col in enumerate(transform_features):\n",
    "    plt.subplot(1, 2, i+1)\n",
    "    sns.histplot(x=X_copy[col], color=\"indianred\")\n",
    "    plt.xlabel(col)\n",
    "    plt.tight_layout()"
   ]
  },
  {
   "cell_type": "markdown",
   "metadata": {},
   "source": [
    "* Checking Skewness"
   ]
  },
  {
   "cell_type": "code",
   "execution_count": 126,
   "metadata": {},
   "outputs": [
    {
     "data": {
      "text/plain": [
       "LastLoginDaysAgo        0.025397\n",
       "AppEngagementMinutes   -0.058911\n",
       "dtype: float64"
      ]
     },
     "execution_count": 126,
     "metadata": {},
     "output_type": "execute_result"
    }
   ],
   "source": [
    "X_copy.skew(axis=0, skipna=True)"
   ]
  },
  {
   "cell_type": "markdown",
   "metadata": {},
   "source": [
    "* So Power Transformer with yeo-johnson can be used."
   ]
  },
  {
   "cell_type": "markdown",
   "metadata": {},
   "source": [
    "**Effective Transformation:** The transformation applied to both LastLoginDaysAgo and AppEngagementMinutes appears to be highly effective, significantly reducing the skewness and thus normalizing these distributions. This is particularly beneficial for statistical modeling and analysis, as many algorithms assume or perform better with normally distributed data."
   ]
  },
  {
   "cell_type": "code",
   "execution_count": 127,
   "metadata": {},
   "outputs": [
    {
     "name": "stdout",
     "output_type": "stream",
     "text": [
      "Country : 6\n",
      "user_education : 4\n",
      "Gender : 2\n",
      "Profession : 5\n",
      "SubscriptionType : 4\n",
      "UsesVR : 2\n",
      "RenewSubscription : 2\n",
      "DesignProjectScale : 4\n",
      "TutorialProgressionType : 4\n",
      "FrequencyOfDesignToolUsage : 3\n",
      "CustomerSupportCall : 2\n",
      "IsActive : 2\n"
     ]
    }
   ],
   "source": [
    "# Let's check unique values in categorical columns\n",
    "for feature in cat_features:\n",
    "    print(feature,':', df[feature].nunique())"
   ]
  },
  {
   "cell_type": "markdown",
   "metadata": {},
   "source": [
    "### Feature Encoding and Scaling\n",
    "\n",
    "**One Hot Encoding**\n",
    "\n",
    "* One Hot Encoding transforms categorical variables into a binary matrix representation that machine learning algorithms can work with more effectively. It's best applied to nominal categorical data with a manageable number of categories, as it adds a new binary column for each unique category.\n",
    "\n",
    "**Ordinal Encoding**\n",
    "\n",
    "* Ordinal Encoding is utilized for encoding ordinal variables—categorical data where the categories have a natural ordered relationship. It converts categories based on their given rank, making it suitable for features where the order impacts the outcome. It is often used in conjunction with ColumnTransformer for integrating directly into preprocessing pipelines.\n",
    "\n",
    "**Standard Scaler**\n",
    "\n",
    "* The Standard Scaler is a preprocessing technique that standardizes features by deducting the mean and scaling to unit variance. This scaler is particularly valuable for algorithms that are sensitive to the scale of the input data, such as support vector machines and k-nearest neighbors.\n",
    "\n",
    "**Power Transformer**\n",
    "\n",
    "* Power Transformers are applied to numerical input or output variables to transform them to have a Gaussian or more Gaussian-like distribution. This technique is beneficial for many statistical methods and machine learning algorithms that assume normality of the input variables."
   ]
  },
  {
   "cell_type": "code",
   "execution_count": 128,
   "metadata": {},
   "outputs": [],
   "source": [
    "# Selecting number features for preprocessing\n",
    "num_features = list(X.select_dtypes(exclude=\"object\").columns)"
   ]
  },
  {
   "cell_type": "code",
   "execution_count": 129,
   "metadata": {},
   "outputs": [
    {
     "data": {
      "text/plain": [
       "['LastLoginDaysAgo', 'Age', 'NumberOfDesigns', 'AppEngagementMinutes']"
      ]
     },
     "execution_count": 129,
     "metadata": {},
     "output_type": "execute_result"
    }
   ],
   "source": [
    "num_features"
   ]
  },
  {
   "cell_type": "markdown",
   "metadata": {},
   "source": [
    "**Preprocessing using Column Transformer**"
   ]
  },
  {
   "cell_type": "code",
   "execution_count": 130,
   "metadata": {},
   "outputs": [],
   "source": [
    "from sklearn.preprocessing import OneHotEncoder, StandardScaler, OrdinalEncoder, PowerTransformer\n",
    "from sklearn.compose import ColumnTransformer\n",
    "from sklearn.pipeline import Pipeline\n",
    "\n",
    "# Define the column names for each type of preprocessing\n",
    "or_columns = [\"user_education\", \"DesignProjectScale\", \"FrequencyOfDesignToolUsage\", \"SubscriptionType\", \"TutorialProgressionType\", \"IsActive\", \"CustomerSupportCall\", \"Gender\", \"UsesVR\"]  # We can also encode columns with binary values in Ordinal Encoding.\n",
    "oh_columns = [\"Country\", \"Profession\"]  # One-hot columns\n",
    "transform_columns = [\"AppEngagementMinutes\", \"LastLoginDaysAgo\"]  # Columns to apply power transformation if skewed\n",
    "num_features = [\"LastLoginDaysAgo\", \"Age\", \"NumberOfDesigns\", \"AppEngagementMinutes\"]  # Numeric columns for standard scaling\n",
    "\n",
    "\n",
    "# Specify Category Order\n",
    "education_order = [\"High School\", \"Bachelor's\", \"Master's\", \"Doctorate\"]  # Education level from lowest to highest\n",
    "project_scale_order = [\"Small\", \"Mixed-use\", \"Medium\", \"Large\"]  # Project scale from smallest to largest\n",
    "frequency_usage_order = [\"Monthly\", \"Weekly\", \"Daily\"]  # Usage frequency from least to most frequent\n",
    "subscription_type_order = [\"Pay-as-you-go\", \"Basic\", \"Premium\", \"Enterprise\"] # Subscription type from basic to most comprehensive\n",
    "tutorial_progressions_order = [\"Not Attended\", \"Beginner\", \"Intermediate\", \"Advanced\"] # From Not Attended to Advanced\n",
    "is_active_order = [\"Yes\", \"No\"] # Binary\n",
    "support_call_order = [\"Y\", \"N\"]\n",
    "gender_order = [\"Male\", \"Female\"]\n",
    "uses_vr_order = [\"Y\", \"N\"]\n",
    "\n",
    "# Create transformers for each preprocessing step\n",
    "numeric_transformer = StandardScaler()\n",
    "oh_transformer = OneHotEncoder()\n",
    "ordinal_encoder = OrdinalEncoder(categories=[education_order, project_scale_order, \n",
    "                                             frequency_usage_order, subscription_type_order, \n",
    "                                             tutorial_progressions_order, is_active_order, support_call_order, gender_order, uses_vr_order])\n",
    "\n",
    "# Create a pipeline for applying power transformation\n",
    "transform_pipe = Pipeline(steps=[\n",
    "    (\"transformer\", PowerTransformer(method=\"yeo-johnson\"))\n",
    "])\n",
    "\n",
    "# Create the ColumnTransformer to apply different preprocessing to specific columns\n",
    "preprocessor = ColumnTransformer(\n",
    "    [\n",
    "        (\"OneHotEncoder\", oh_transformer, oh_columns),\n",
    "        (\"Ordinal_Encoder\", ordinal_encoder, or_columns),\n",
    "        (\"Transformer\", transform_pipe, transform_columns),\n",
    "        (\"StandardScaler\", numeric_transformer, num_features)\n",
    "    ],\n",
    "    remainder=\"passthrough\"  # Handles any columns not explicitly mentioned\n",
    ")"
   ]
  },
  {
   "cell_type": "markdown",
   "metadata": {},
   "source": [
    "#### Train Test Split\n",
    "\n",
    "It's crucial to follow the correct sequence when splitting the dataset and applying transformations in a machine learning workflow. We should first split the dataset into training and testing sets before applying any transformations.\n",
    "\n",
    "This sequence is important for several reasons:\n",
    "\n",
    "* Prevent Data Leakage\n",
    "* Simulate Real-World Scenarios\n",
    "* Correct Application of Transformations"
   ]
  },
  {
   "cell_type": "code",
   "execution_count": 131,
   "metadata": {},
   "outputs": [
    {
     "data": {
      "text/plain": [
       "((20384, 15), (5096, 15))"
      ]
     },
     "execution_count": 131,
     "metadata": {},
     "output_type": "execute_result"
    }
   ],
   "source": [
    "from sklearn.model_selection import train_test_split\n",
    "# Separate dataset into train and test\n",
    "X_train, X_test, y_train, y_test = train_test_split(X,y,test_size=0.2,random_state=42)\n",
    "X_train.shape, X_test.shape"
   ]
  },
  {
   "cell_type": "markdown",
   "metadata": {},
   "source": [
    "#### Apply Preprocessor\n",
    "\n",
    " Fit and transform the training data using preprocessing pipeline. This step should be done before applying SMOTEENN because the synthetic samples generated by SMOTEENN should go through the same preprocessing steps as the actual data to maintain consistency."
   ]
  },
  {
   "cell_type": "code",
   "execution_count": 132,
   "metadata": {},
   "outputs": [],
   "source": [
    "preprocessor.fit(X_train)\n",
    "X_train_transformed = preprocessor.transform(X_train)"
   ]
  },
  {
   "cell_type": "markdown",
   "metadata": {},
   "source": [
    "#### Apply SMOTEENN\n",
    "\n",
    "After preprocessing the training data,we need to apply SMOTEENN to handle the class imbalance. This ensures that the oversampling technique is applied to data that has already been scaled, encoded, etc., which helps in generating more meaningful synthetic samples."
   ]
  },
  {
   "cell_type": "code",
   "execution_count": 133,
   "metadata": {},
   "outputs": [],
   "source": [
    "from imblearn.combine import SMOTEENN\n",
    "\n",
    "smote_enn = SMOTEENN(random_state=42, sampling_strategy=\"minority\")\n",
    "X_train_resampled, y_train_resampled = smote_enn.fit_resample(X_train_transformed, y_train)"
   ]
  },
  {
   "cell_type": "markdown",
   "metadata": {},
   "source": [
    "#### Transform the Test Data\n",
    "\n",
    "Transform the test data using the already fitted preprocessing pipeline. Note that we do not apply SMOTEENN to the test data."
   ]
  },
  {
   "cell_type": "code",
   "execution_count": 134,
   "metadata": {},
   "outputs": [],
   "source": [
    "X_test_transformed = preprocessor.transform(X_test)"
   ]
  },
  {
   "cell_type": "markdown",
   "metadata": {},
   "source": [
    "### Model Training"
   ]
  },
  {
   "cell_type": "code",
   "execution_count": 135,
   "metadata": {},
   "outputs": [],
   "source": [
    "# Let's import the necessary libraries for model training\n",
    "from sklearn.ensemble import RandomForestClassifier, AdaBoostClassifier, GradientBoostingClassifier\n",
    "from sklearn.linear_model import LogisticRegression\n",
    "from sklearn.neighbors import KNeighborsClassifier\n",
    "from sklearn.tree import DecisionTreeClassifier\n",
    "from sklearn.svm import SVC\n",
    "from sklearn.metrics import accuracy_score, classification_report,ConfusionMatrixDisplay, \\\n",
    "                            precision_score, recall_score, f1_score, roc_auc_score,roc_curve \n",
    "from xgboost import XGBClassifier\n",
    "from catboost import CatBoostClassifier"
   ]
  },
  {
   "cell_type": "code",
   "execution_count": 136,
   "metadata": {},
   "outputs": [],
   "source": [
    "import pandas as pd\n",
    "from sklearn.metrics import accuracy_score, f1_score, precision_score, recall_score, roc_auc_score\n",
    "\n",
    "def evaluate_clf(true, predicted):\n",
    "    acc = accuracy_score(true, predicted)  # Calculate Accuracy\n",
    "    f1 = f1_score(true, predicted, average=\"binary\")  # Calculate F1-score\n",
    "    precision = precision_score(true, predicted, average=\"binary\")  # Calculate Precision\n",
    "    recall = recall_score(true, predicted, average=\"binary\")  # Calculate Recall\n",
    "    roc_auc = roc_auc_score(true, predicted)  # Calculate Roc\n",
    "    return acc, f1, precision, recall, roc_auc\n",
    "\n",
    "def evaluate_models(X_train, y_train, X_test, y_test, models):\n",
    "    '''\n",
    "    This function takes in preprocessed and resampled X_train, y_train and the original X_test, y_test, \n",
    "    along with a dictionary of models. It evaluates each model and returns a DataFrame with the performance metrics.\n",
    "\n",
    "    '''\n",
    "    models_list = []\n",
    "    accuracy_list = []\n",
    "    f1_list = []\n",
    "    precision_list = []\n",
    "    recall_list = []\n",
    "    roc_auc_list = []\n",
    "\n",
    "    for name, model in models.items():\n",
    "        model.fit(X_train, y_train)  # Train model\n",
    "\n",
    "        # Make predictions on the test set\n",
    "        y_test_pred = model.predict(X_test)\n",
    "\n",
    "        # Evaluate performance\n",
    "        model_test_accuracy, model_test_f1, model_test_precision, model_test_recall, model_test_rocauc_score = evaluate_clf(y_test, y_test_pred)\n",
    "\n",
    "        # Append results\n",
    "        models_list.append(name)\n",
    "        accuracy_list.append(model_test_accuracy)\n",
    "        f1_list.append(model_test_f1)\n",
    "        precision_list.append(model_test_precision)\n",
    "        recall_list.append(model_test_recall)\n",
    "        roc_auc_list.append(model_test_rocauc_score)\n",
    "\n",
    "        # Optional: Print results for each model\n",
    "        print(f'Model performance for {name}:')\n",
    "        print(\"- Accuracy: {:.4f}\".format(model_test_accuracy))\n",
    "        print(\"- F1 score: {:.4f}\".format(model_test_f1))\n",
    "        print(\"- Precision: {:.4f}\".format(model_test_precision))\n",
    "        print(\"- Recall: {:.4f}\".format(model_test_recall))\n",
    "        print(\"- ROC AUC Score: {:.4f}\".format(model_test_rocauc_score))\n",
    "        print(\"=\"*35)\n",
    "        print(\"\\n\")\n",
    "\n",
    "    # Create and return a DataFrame with all results\n",
    "    report = pd.DataFrame({\n",
    "        \"Model Name\": models_list,\n",
    "        \"Accuracy\": accuracy_list,\n",
    "        \"F1 Score\": f1_list,\n",
    "        \"Precision\": precision_list,\n",
    "        \"Recall\": recall_list,\n",
    "        \"ROC AUC Score\": roc_auc_list\n",
    "    }).sort_values(by=\"Accuracy\", ascending=False)\n",
    "        \n",
    "    return report"
   ]
  },
  {
   "cell_type": "code",
   "execution_count": 137,
   "metadata": {},
   "outputs": [],
   "source": [
    "models = {\n",
    "    \"Random Forest\": RandomForestClassifier(),\n",
    "    \"Decision Tree\": DecisionTreeClassifier(),\n",
    "    \"Gradient Boosting\": GradientBoostingClassifier(),\n",
    "    \"Logistic Regression\": LogisticRegression(),\n",
    "     \"K-Neighbors Classifier\": KNeighborsClassifier(),\n",
    "    \"XGBClassifier\": XGBClassifier(), \n",
    "     \"CatBoosting Classifier\": CatBoostClassifier(verbose=False),\n",
    "     \"Support Vector Classifier\": SVC(),\n",
    "    \"AdaBoost Classifier\": AdaBoostClassifier()\n",
    "\n",
    "}"
   ]
  },
  {
   "cell_type": "code",
   "execution_count": 138,
   "metadata": {},
   "outputs": [
    {
     "name": "stdout",
     "output_type": "stream",
     "text": [
      "Model performance for Random Forest:\n",
      "- Accuracy: 0.9064\n",
      "- F1 score: 0.8582\n",
      "- Precision: 0.8489\n",
      "- Recall: 0.8678\n",
      "- ROC AUC Score: 0.8965\n",
      "===================================\n",
      "\n",
      "\n",
      "Model performance for Decision Tree:\n",
      "- Accuracy: 0.8811\n",
      "- F1 score: 0.8275\n",
      "- Precision: 0.7859\n",
      "- Recall: 0.8738\n",
      "- ROC AUC Score: 0.8792\n",
      "===================================\n",
      "\n",
      "\n",
      "Model performance for Gradient Boosting:\n",
      "- Accuracy: 0.9072\n",
      "- F1 score: 0.8592\n",
      "- Precision: 0.8513\n",
      "- Recall: 0.8672\n",
      "- ROC AUC Score: 0.8969\n",
      "===================================\n",
      "\n",
      "\n",
      "Model performance for Logistic Regression:\n",
      "- Accuracy: 0.7306\n",
      "- F1 score: 0.6431\n",
      "- Precision: 0.5667\n",
      "- Recall: 0.7434\n",
      "- ROC AUC Score: 0.7339\n",
      "===================================\n",
      "\n",
      "\n",
      "Model performance for K-Neighbors Classifier:\n",
      "- Accuracy: 0.8356\n",
      "- F1 score: 0.7694\n",
      "- Precision: 0.7096\n",
      "- Recall: 0.8401\n",
      "- ROC AUC Score: 0.8367\n",
      "===================================\n",
      "\n",
      "\n",
      "Model performance for XGBClassifier:\n",
      "- Accuracy: 0.9060\n",
      "- F1 score: 0.8579\n",
      "- Precision: 0.8471\n",
      "- Recall: 0.8690\n",
      "- ROC AUC Score: 0.8965\n",
      "===================================\n",
      "\n",
      "\n",
      "Model performance for CatBoosting Classifier:\n",
      "- Accuracy: 0.9068\n",
      "- F1 score: 0.8587\n",
      "- Precision: 0.8503\n",
      "- Recall: 0.8672\n",
      "- ROC AUC Score: 0.8966\n",
      "===================================\n",
      "\n",
      "\n",
      "Model performance for Support Vector Classifier:\n",
      "- Accuracy: 0.9046\n",
      "- F1 score: 0.8560\n",
      "- Precision: 0.8444\n",
      "- Recall: 0.8678\n",
      "- ROC AUC Score: 0.8951\n",
      "===================================\n",
      "\n",
      "\n",
      "Model performance for AdaBoost Classifier:\n",
      "- Accuracy: 0.9070\n",
      "- F1 score: 0.8589\n",
      "- Precision: 0.8508\n",
      "- Recall: 0.8672\n",
      "- ROC AUC Score: 0.8967\n",
      "===================================\n",
      "\n",
      "\n"
     ]
    }
   ],
   "source": [
    "report = evaluate_models(X_train_resampled, y_train_resampled, X_test_transformed, y_test, models)"
   ]
  },
  {
   "cell_type": "markdown",
   "metadata": {},
   "source": [
    "**Results of All Models**"
   ]
  },
  {
   "cell_type": "code",
   "execution_count": 140,
   "metadata": {},
   "outputs": [
    {
     "data": {
      "text/html": [
       "<div>\n",
       "<style scoped>\n",
       "    .dataframe tbody tr th:only-of-type {\n",
       "        vertical-align: middle;\n",
       "    }\n",
       "\n",
       "    .dataframe tbody tr th {\n",
       "        vertical-align: top;\n",
       "    }\n",
       "\n",
       "    .dataframe thead th {\n",
       "        text-align: right;\n",
       "    }\n",
       "</style>\n",
       "<table border=\"1\" class=\"dataframe\">\n",
       "  <thead>\n",
       "    <tr style=\"text-align: right;\">\n",
       "      <th></th>\n",
       "      <th>Model Name</th>\n",
       "      <th>Accuracy</th>\n",
       "      <th>F1 Score</th>\n",
       "      <th>Precision</th>\n",
       "      <th>Recall</th>\n",
       "      <th>ROC AUC Score</th>\n",
       "    </tr>\n",
       "  </thead>\n",
       "  <tbody>\n",
       "    <tr>\n",
       "      <th>2</th>\n",
       "      <td>Gradient Boosting</td>\n",
       "      <td>0.907182</td>\n",
       "      <td>0.859184</td>\n",
       "      <td>0.851327</td>\n",
       "      <td>0.867188</td>\n",
       "      <td>0.896880</td>\n",
       "    </tr>\n",
       "    <tr>\n",
       "      <th>8</th>\n",
       "      <td>AdaBoost Classifier</td>\n",
       "      <td>0.906986</td>\n",
       "      <td>0.858929</td>\n",
       "      <td>0.850825</td>\n",
       "      <td>0.867188</td>\n",
       "      <td>0.896735</td>\n",
       "    </tr>\n",
       "    <tr>\n",
       "      <th>6</th>\n",
       "      <td>CatBoosting Classifier</td>\n",
       "      <td>0.906790</td>\n",
       "      <td>0.858673</td>\n",
       "      <td>0.850324</td>\n",
       "      <td>0.867188</td>\n",
       "      <td>0.896589</td>\n",
       "    </tr>\n",
       "    <tr>\n",
       "      <th>0</th>\n",
       "      <td>Random Forest</td>\n",
       "      <td>0.906397</td>\n",
       "      <td>0.858247</td>\n",
       "      <td>0.848912</td>\n",
       "      <td>0.867788</td>\n",
       "      <td>0.896453</td>\n",
       "    </tr>\n",
       "    <tr>\n",
       "      <th>5</th>\n",
       "      <td>XGBClassifier</td>\n",
       "      <td>0.906005</td>\n",
       "      <td>0.857906</td>\n",
       "      <td>0.847100</td>\n",
       "      <td>0.868990</td>\n",
       "      <td>0.896471</td>\n",
       "    </tr>\n",
       "    <tr>\n",
       "      <th>7</th>\n",
       "      <td>Support Vector Classifier</td>\n",
       "      <td>0.904631</td>\n",
       "      <td>0.855957</td>\n",
       "      <td>0.844444</td>\n",
       "      <td>0.867788</td>\n",
       "      <td>0.895141</td>\n",
       "    </tr>\n",
       "    <tr>\n",
       "      <th>1</th>\n",
       "      <td>Decision Tree</td>\n",
       "      <td>0.881083</td>\n",
       "      <td>0.827547</td>\n",
       "      <td>0.785946</td>\n",
       "      <td>0.873798</td>\n",
       "      <td>0.879207</td>\n",
       "    </tr>\n",
       "    <tr>\n",
       "      <th>4</th>\n",
       "      <td>K-Neighbors Classifier</td>\n",
       "      <td>0.835557</td>\n",
       "      <td>0.769400</td>\n",
       "      <td>0.709645</td>\n",
       "      <td>0.840144</td>\n",
       "      <td>0.836739</td>\n",
       "    </tr>\n",
       "    <tr>\n",
       "      <th>3</th>\n",
       "      <td>Logistic Regression</td>\n",
       "      <td>0.730573</td>\n",
       "      <td>0.643099</td>\n",
       "      <td>0.566651</td>\n",
       "      <td>0.743389</td>\n",
       "      <td>0.733874</td>\n",
       "    </tr>\n",
       "  </tbody>\n",
       "</table>\n",
       "</div>"
      ],
      "text/plain": [
       "                  Model Name  Accuracy  F1 Score  Precision    Recall  \\\n",
       "2          Gradient Boosting  0.907182  0.859184   0.851327  0.867188   \n",
       "8        AdaBoost Classifier  0.906986  0.858929   0.850825  0.867188   \n",
       "6     CatBoosting Classifier  0.906790  0.858673   0.850324  0.867188   \n",
       "0              Random Forest  0.906397  0.858247   0.848912  0.867788   \n",
       "5              XGBClassifier  0.906005  0.857906   0.847100  0.868990   \n",
       "7  Support Vector Classifier  0.904631  0.855957   0.844444  0.867788   \n",
       "1              Decision Tree  0.881083  0.827547   0.785946  0.873798   \n",
       "4     K-Neighbors Classifier  0.835557  0.769400   0.709645  0.840144   \n",
       "3        Logistic Regression  0.730573  0.643099   0.566651  0.743389   \n",
       "\n",
       "   ROC AUC Score  \n",
       "2       0.896880  \n",
       "8       0.896735  \n",
       "6       0.896589  \n",
       "0       0.896453  \n",
       "5       0.896471  \n",
       "7       0.895141  \n",
       "1       0.879207  \n",
       "4       0.836739  \n",
       "3       0.733874  "
      ]
     },
     "execution_count": 140,
     "metadata": {},
     "output_type": "execute_result"
    }
   ],
   "source": [
    "report"
   ]
  },
  {
   "cell_type": "markdown",
   "metadata": {},
   "source": [
    "#### Let's apply Hyper Parameter Tuning\n",
    "\n",
    "\n",
    "* Gradient Boosting leads with the highest scores across all metrics, particularly excelling in accuracy and ROC AUC, making it a strong candidate for further tuning to possibly enhance its performance even more.\n",
    "\n",
    "* We can select Gradient Boosting, Random Forest, and AdaBoost Classifier for further optimization using RandomizedSearchCV.\n",
    "\n",
    "* These models represent a strategic choice for achieving robust predictive performance. Leveraging RandomizedSearchCV to tune their hyperparameters can effectively maximize their accuracy and overall prediction quality."
   ]
  },
  {
   "cell_type": "code",
   "execution_count": 141,
   "metadata": {},
   "outputs": [],
   "source": [
    "# Initialize few parameter for Hyperparamter tuning\n",
    "\n",
    "gb_params = {\n",
    "    \"n_estimators\": [100, 120, 140, 200, 250],\n",
    "    \"learning_rate\": [0.1, 0.3, 0.4, 0.5],\n",
    "    \"max_depth\": [3, 5, 7, 9, 13],\n",
    "    \"min_samples_split\": [2, 3, 5, 15],\n",
    "    \"min_samples_leaf\": [1, 3, 5, 7],\n",
    "    \"subsample\": [0.3, 1.0],\n",
    "    \"max_features\": [\"sqrt\", \"log2\", 0.5, None]\n",
    "}\n",
    "\n",
    "\n",
    "\n",
    "rf_params = {\n",
    "    \"max_depth\": [None, 10, 15, 20, 30],\n",
    "    \"max_features\": [\"sqrt\", \"log2\", 0.5, None],\n",
    "    \"n_estimators\": [100, 120, 150, 250],\n",
    "    \"min_samples_split\": [2, 6, 10, 14],\n",
    "    \"min_samples_leaf\": [1, 3, 5, 7, 11],\n",
    "    \"criterion\": [\"gini\", \"entropy\",\"log_loss\"]\n",
    "}\n",
    "\n",
    "\n",
    "\n",
    "ada_params = {\n",
    "    \"n_estimators\": [50, 55, 120, 150, 300],\n",
    "    \"learning_rate\": [0.05, 0.1, 0.3, 0.5, 0.7, 0.9],\n",
    "    \"algorithm\": [\"SAMME\", \"SAMME.R\"] \n",
    "}\n"
   ]
  },
  {
   "cell_type": "code",
   "execution_count": 142,
   "metadata": {},
   "outputs": [],
   "source": [
    "# Models list for Hyperparameter tuning\n",
    "randomcv_models = [\n",
    "    (\"Gradient Boosting\", GradientBoostingClassifier(), gb_params),\n",
    "    (\"Random Forest\", RandomForestClassifier(), rf_params),\n",
    "    (\"AdaBoost\", AdaBoostClassifier(), ada_params)\n",
    "]"
   ]
  },
  {
   "cell_type": "code",
   "execution_count": 143,
   "metadata": {},
   "outputs": [
    {
     "name": "stdout",
     "output_type": "stream",
     "text": [
      "Fitting 5 folds for each of 300 candidates, totalling 1500 fits\n",
      "Fitting 5 folds for each of 300 candidates, totalling 1500 fits\n",
      "Fitting 5 folds for each of 60 candidates, totalling 300 fits\n",
      "---------------- Best Params for Gradient Boosting -------------------\n",
      "{'subsample': 1.0, 'n_estimators': 120, 'min_samples_split': 15, 'min_samples_leaf': 7, 'max_features': 0.5, 'max_depth': 13, 'learning_rate': 0.4}\n",
      "---------------- Best Params for Random Forest -------------------\n",
      "{'n_estimators': 250, 'min_samples_split': 2, 'min_samples_leaf': 1, 'max_features': 'sqrt', 'max_depth': None, 'criterion': 'gini'}\n",
      "---------------- Best Params for AdaBoost -------------------\n",
      "{'n_estimators': 300, 'learning_rate': 0.9, 'algorithm': 'SAMME.R'}\n"
     ]
    }
   ],
   "source": [
    "from sklearn.model_selection import RandomizedSearchCV\n",
    "\n",
    "\n",
    "model_param = {}\n",
    "for name, model, params in randomcv_models:\n",
    "    random = RandomizedSearchCV(estimator=model,\n",
    "                                param_distributions=params,\n",
    "                                n_iter=300, \n",
    "                                cv=5,  \n",
    "                                scoring=\"accuracy\",\n",
    "                                verbose=2,\n",
    "                                random_state=12,  \n",
    "                                n_jobs=-1)\n",
    "    random.fit(X_train_resampled, y_train_resampled)\n",
    "    model_param[name] = random.best_params_\n",
    "\n",
    "# Print out the best parameters for each model\n",
    "for model_name in model_param:\n",
    "    print(f\"---------------- Best Params for {model_name} -------------------\")\n",
    "    print(model_param[model_name])\n"
   ]
  },
  {
   "cell_type": "code",
   "execution_count": 144,
   "metadata": {},
   "outputs": [
    {
     "data": {
      "text/plain": [
       "{'Gradient Boosting': {'subsample': 1.0,\n",
       "  'n_estimators': 120,\n",
       "  'min_samples_split': 15,\n",
       "  'min_samples_leaf': 7,\n",
       "  'max_features': 0.5,\n",
       "  'max_depth': 13,\n",
       "  'learning_rate': 0.4},\n",
       " 'Random Forest': {'n_estimators': 250,\n",
       "  'min_samples_split': 2,\n",
       "  'min_samples_leaf': 1,\n",
       "  'max_features': 'sqrt',\n",
       "  'max_depth': None,\n",
       "  'criterion': 'gini'},\n",
       " 'AdaBoost': {'n_estimators': 300,\n",
       "  'learning_rate': 0.9,\n",
       "  'algorithm': 'SAMME.R'}}"
      ]
     },
     "execution_count": 144,
     "metadata": {},
     "output_type": "execute_result"
    }
   ],
   "source": [
    "model_param"
   ]
  },
  {
   "cell_type": "markdown",
   "metadata": {},
   "source": [
    "#### Retraining the Model with best Parameters"
   ]
  },
  {
   "cell_type": "code",
   "execution_count": 145,
   "metadata": {},
   "outputs": [
    {
     "name": "stdout",
     "output_type": "stream",
     "text": [
      "Model performance for Gradient Boosting Classifier:\n",
      "- Accuracy: 0.9056\n",
      "- F1 score: 0.8573\n",
      "- Precision: 0.8465\n",
      "- Recall: 0.8684\n",
      "- ROC AUC Score: 0.8960\n",
      "===================================\n",
      "\n",
      "\n",
      "Model performance for Random Forest Classifier:\n",
      "- Accuracy: 0.9064\n",
      "- F1 score: 0.8582\n",
      "- Precision: 0.8489\n",
      "- Recall: 0.8678\n",
      "- ROC AUC Score: 0.8965\n",
      "===================================\n",
      "\n",
      "\n",
      "Model performance for AdaBoost Classifier:\n",
      "- Accuracy: 0.9072\n",
      "- F1 score: 0.8593\n",
      "- Precision: 0.8509\n",
      "- Recall: 0.8678\n",
      "- ROC AUC Score: 0.8970\n",
      "===================================\n",
      "\n",
      "\n"
     ]
    }
   ],
   "source": [
    "from sklearn.metrics import roc_auc_score,roc_curve\n",
    "\n",
    "best_models = {\n",
    "    \"Gradient Boosting Classifier\": GradientBoostingClassifier(**model_param[\"Gradient Boosting\"]),\n",
    "    \"Random Forest Classifier\": RandomForestClassifier(**model_param[\"Random Forest\"]),\n",
    "    \"AdaBoost Classifier\": AdaBoostClassifier(**model_param[\"AdaBoost\"]),\n",
    "}\n",
    "\n",
    "tuned_report = evaluate_models(X_train_resampled, y_train_resampled, X_test_transformed, y_test, best_models)"
   ]
  },
  {
   "cell_type": "code",
   "execution_count": 146,
   "metadata": {},
   "outputs": [
    {
     "data": {
      "text/html": [
       "<div>\n",
       "<style scoped>\n",
       "    .dataframe tbody tr th:only-of-type {\n",
       "        vertical-align: middle;\n",
       "    }\n",
       "\n",
       "    .dataframe tbody tr th {\n",
       "        vertical-align: top;\n",
       "    }\n",
       "\n",
       "    .dataframe thead th {\n",
       "        text-align: right;\n",
       "    }\n",
       "</style>\n",
       "<table border=\"1\" class=\"dataframe\">\n",
       "  <thead>\n",
       "    <tr style=\"text-align: right;\">\n",
       "      <th></th>\n",
       "      <th>Model Name</th>\n",
       "      <th>Accuracy</th>\n",
       "      <th>F1 Score</th>\n",
       "      <th>Precision</th>\n",
       "      <th>Recall</th>\n",
       "      <th>ROC AUC Score</th>\n",
       "    </tr>\n",
       "  </thead>\n",
       "  <tbody>\n",
       "    <tr>\n",
       "      <th>2</th>\n",
       "      <td>AdaBoost Classifier</td>\n",
       "      <td>0.907182</td>\n",
       "      <td>0.859268</td>\n",
       "      <td>0.850913</td>\n",
       "      <td>0.867788</td>\n",
       "      <td>0.897035</td>\n",
       "    </tr>\n",
       "    <tr>\n",
       "      <th>1</th>\n",
       "      <td>Random Forest Classifier</td>\n",
       "      <td>0.906397</td>\n",
       "      <td>0.858247</td>\n",
       "      <td>0.848912</td>\n",
       "      <td>0.867788</td>\n",
       "      <td>0.896453</td>\n",
       "    </tr>\n",
       "    <tr>\n",
       "      <th>0</th>\n",
       "      <td>Gradient Boosting Classifier</td>\n",
       "      <td>0.905612</td>\n",
       "      <td>0.857312</td>\n",
       "      <td>0.846514</td>\n",
       "      <td>0.868389</td>\n",
       "      <td>0.896025</td>\n",
       "    </tr>\n",
       "  </tbody>\n",
       "</table>\n",
       "</div>"
      ],
      "text/plain": [
       "                     Model Name  Accuracy  F1 Score  Precision    Recall  \\\n",
       "2           AdaBoost Classifier  0.907182  0.859268   0.850913  0.867788   \n",
       "1      Random Forest Classifier  0.906397  0.858247   0.848912  0.867788   \n",
       "0  Gradient Boosting Classifier  0.905612  0.857312   0.846514  0.868389   \n",
       "\n",
       "   ROC AUC Score  \n",
       "2       0.897035  \n",
       "1       0.896453  \n",
       "0       0.896025  "
      ]
     },
     "execution_count": 146,
     "metadata": {},
     "output_type": "execute_result"
    }
   ],
   "source": [
    "tuned_report"
   ]
  },
  {
   "cell_type": "code",
   "execution_count": 147,
   "metadata": {},
   "outputs": [
    {
     "name": "stdout",
     "output_type": "stream",
     "text": [
      "FINAL MODEL 'AdaBoost'\n",
      "Accuracy Score value: 0.9072\n",
      "              precision    recall  f1-score   support\n",
      "\n",
      "           0       0.94      0.93      0.93      3432\n",
      "           1       0.85      0.87      0.86      1664\n",
      "\n",
      "    accuracy                           0.91      5096\n",
      "   macro avg       0.89      0.90      0.90      5096\n",
      "weighted avg       0.91      0.91      0.91      5096\n",
      "\n"
     ]
    }
   ],
   "source": [
    "best_model = AdaBoostClassifier(**model_param[\"AdaBoost\"])\n",
    "best_model = best_model.fit(X_train_resampled,y_train_resampled)\n",
    "y_pred = best_model.predict(X_test_transformed)\n",
    "score = accuracy_score(y_test,y_pred)\n",
    "cr = classification_report(y_test,y_pred)\n",
    "\n",
    "print(\"FINAL MODEL 'AdaBoost'\")\n",
    "print (\"Accuracy Score value: {:.4f}\".format(score))\n",
    "print (cr)"
   ]
  },
  {
   "cell_type": "code",
   "execution_count": 148,
   "metadata": {},
   "outputs": [
    {
     "data": {
      "text/plain": [
       "<sklearn.metrics._plot.confusion_matrix.ConfusionMatrixDisplay at 0x1cf64d0efd0>"
      ]
     },
     "execution_count": 148,
     "metadata": {},
     "output_type": "execute_result"
    },
    {
     "data": {
      "image/png": "[encoded data removed]",
      "text/plain": [
       "<Figure size 640x480 with 2 Axes>"
      ]
     },
     "metadata": {},
     "output_type": "display_data"
    }
   ],
   "source": [
    "#  Display the confusion matrix for the best model\n",
    "from sklearn.metrics import ConfusionMatrixDisplay\n",
    "ConfusionMatrixDisplay.from_estimator(best_model, X_test_transformed, y_test)"
   ]
  },
  {
   "cell_type": "markdown",
   "metadata": {},
   "source": [
    "# Best Model is AdaBoost with Accuracy 91%"
   ]
  }
 ],
 "metadata": {
  "kernelspec": {
   "display_name": "airenew",
   "language": "python",
   "name": "python3"
  },
  "language_info": {
   "codemirror_mode": {
    "name": "ipython",
    "version": 3
   },
   "file_extension": ".py",
   "mimetype": "text/x-python",
   "name": "python",
   "nbconvert_exporter": "python",
   "pygments_lexer": "ipython3",
   "version": "3.11.8"
  }
 },
 "nbformat": 4,
 "nbformat_minor": 2
}
